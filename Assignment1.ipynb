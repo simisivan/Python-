{
 "cells": [
  {
   "cell_type": "code",
   "execution_count": null,
   "id": "305d11fe",
   "metadata": {},
   "outputs": [],
   "source": [
    "1. In the below elements which of them are values or an expression? eg:- values can be integer or string and expressions will be mathematical operators.\n",
    "* \n",
    "'hello'\n",
    "-87.8\n",
    "- \n",
    "/ \n",
    "+\t\n",
    "6 \n",
    "Here values are  ‘hello’, -87.8,6\n",
    "Expressions are * ,-,/, +\n",
    "\n",
    "2. What is the difference between string and variable?\n",
    "Variable is a name used to refer a location in computer memory which can hold values from string to integers.\n",
    "String is a type of variable which can store string values enclosed in single or double quotes.\n",
    "3. Describe three different data types.\n",
    "Text Type:\tstr\n",
    "Numeric Types:\tint, float, complex\n",
    "Sequence Types:\tlist, tuple, range\n",
    "Mapping Type:\tdict\n",
    "Set Types:\tset, frozenset\n",
    "Boolean Type:\tbool\n",
    "Binary Types:\tbytes, bytearray, memoryview\n",
    "\n",
    "4. What is an expression made up of? What do all expressions do?\n",
    "An expression is a combination of operators and operands that is interpreted to produce some other value.\n",
    "The expressions will be evaluated and gives us the result once we pass the values to the variables.\n",
    "5. This assignment statements, like spam = 10. What is the difference between an expression and a statement?\n",
    "An expression contains operands and operators which can evaluate and value may vary based on the variables in the expression.But assignment operator is like assigning a value to the variable which will be constant till the next value assigns to it.\n",
    "6. After running the following code, what does the variable bacon contain?\n",
    "bacon = 22\n",
    "bacon + 1\n",
    "The value of bacon will becomes 23 \n",
    "7. What should the values of the following two terms be?\n",
    "'spam' + 'spamspam'\n",
    "'spam' * 3\n",
    "Output of 'spam' + 'spamspam'   is 'spamspamspam'\n",
    "Output of 'spam' * 3 is 'spamspamspam'\n",
    "\n",
    "8. Why is eggs a valid variable name while 100 is invalid?\n",
    "Variable name should start with letter(a-zA-Z) or underscore (_).So 100 is invalid\n",
    "9. What three functions can be used to get the integer, floating-point number, or string version of a value?\n",
    "The int() , float() , and str( ) functions will evaluate to the integer, floating-point number, and string versions of the value passed to them.\n",
    "10. Why does this expression cause an error? How can you fix it?\n",
    "'I have eaten ' + 99 + ' burritos.'\n",
    "This will cause to error because 99 is not a string.\n",
    "We can fix this by converting 99 to string using str().\n",
    "'I have eaten ' + str(99) + ' burritos.'\n",
    "\n",
    "\n"
   ]
  }
 ],
 "metadata": {
  "kernelspec": {
   "display_name": "Python 3",
   "language": "python",
   "name": "python3"
  },
  "language_info": {
   "codemirror_mode": {
    "name": "ipython",
    "version": 3
   },
   "file_extension": ".py",
   "mimetype": "text/x-python",
   "name": "python",
   "nbconvert_exporter": "python",
   "pygments_lexer": "ipython3",
   "version": "3.8.8"
  }
 },
 "nbformat": 4,
 "nbformat_minor": 5
}
